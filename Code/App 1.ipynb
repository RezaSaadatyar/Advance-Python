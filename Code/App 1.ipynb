{
 "cells": [
  {
   "cell_type": "markdown",
   "metadata": {
    "collapsed": false
   },
   "source": [
    "*String concatenation*"
   ]
  },
  {
   "cell_type": "markdown",
   "metadata": {},
   "source": [
    "*Context:*\n",
    "1.  *type of print*\n",
    "2.  *min & mac*\n",
    "3.  *decimal*\n",
    "4.  *map & reversed*\n",
    "5.  *sorted*\n",
    "6.  *enumerate & zip*\n",
    "7.  *range*\n",
    "8.  *set*\n",
    "9.  *counter*\n",
    "10.  *dict*\n",
    "11. *deque*\n",
    "12. *for*\n",
    "13. *cycle, repeat & chain*\n",
    "14. *filterfalse, compress, dropwhile & takewhile*\n",
    "15. *starmap*\n",
    "16. *generator*\n",
    "17. *all & any*\n",
    "18. *logging*"
   ]
  },
  {
   "cell_type": "markdown",
   "metadata": {},
   "source": [
    "================================== Importing the required Libraries ==========================="
   ]
  },
  {
   "cell_type": "code",
   "execution_count": 36,
   "metadata": {},
   "outputs": [],
   "source": [
    "import os\n",
    "import logging\n",
    "import cProfile\n",
    "import numpy as np\n",
    "from random import randint\n",
    "from decimal import getcontext, Decimal, localcontext\n",
    "from collections import Counter, defaultdict, OrderedDict, ChainMap, deque\n",
    "from itertools import cycle, repeat,chain, filterfalse, compress, dropwhile, takewhile, starmap"
   ]
  },
  {
   "cell_type": "code",
   "execution_count": 56,
   "metadata": {
    "ExecuteTime": {
     "end_time": "2023-07-14T06:06:35.880187900Z",
     "start_time": "2023-07-14T06:06:35.838213400Z"
    },
    "collapsed": false
   },
   "outputs": [
    {
     "name": "stdout",
     "output_type": "stream",
     "text": [
      "data[101] = {'name': 'Ali', 'balance': 1000}\n",
      "Ali has 1000 units in their account.\n",
      "Ali-has-1000-units in their account.\n"
     ]
    }
   ],
   "source": [
    "data = {\n",
    "    101: {'name': 'Ali', 'balance': 1000},\n",
    "    102: {'name': 'Sara', 'balance': 500},\n",
    "    103: {'name': 'Zohreh', 'balance': 2100},\n",
    "    104: {'name': 'Babak', 'balance': 600},\n",
    "    105: {'name': 'Hamid', 'balance': 750},\n",
    "}\n",
    "item = data[101]\n",
    "print(f\"{data[101] = }\")\n",
    "\n",
    "print(item['name'], 'has', item['balance'], 'units in their account.')\n",
    "t=(item['name'], 'has', str(item['balance']), 'units in their account.')\n",
    "tt='-'.join(t)\n",
    "print(tt)"
   ]
  },
  {
   "cell_type": "code",
   "execution_count": 58,
   "metadata": {},
   "outputs": [
    {
     "name": "stdout",
     "output_type": "stream",
     "text": [
      "A = {'name': 'C', 'Age': 50, 'balance': 2100}\n",
      "B = {'name': 'R', 'Age': 65, 'balance': 750}\n"
     ]
    }
   ],
   "source": [
    "data = [{'name': 'A', 'Age':30,  'balance': 1000},\n",
    "       {'name':  'B', 'Age':25,  'balance': 500},\n",
    "       {'name':  'C', 'Age':50,  'balance': 2100},\n",
    "       {'name':  'V', 'Age':20,  'balance': 600},\n",
    "       {'name':  'R', 'Age':65,  'balance': 750}]\n",
    "A=max(data, key=lambda dat: dat['balance'])\n",
    "B=max(data, key=lambda dat: dat['Age'])\n",
    "print(f\"{A = }\")\n",
    "print(f\"{B = }\")"
   ]
  },
  {
   "cell_type": "code",
   "execution_count": 66,
   "metadata": {
    "collapsed": false
   },
   "outputs": [
    {
     "name": "stdout",
     "output_type": "stream",
     "text": [
      "Decimal(1)/Decimal(56): 0.018\n",
      "Decimal(1)/Decimal(56): 0.018\n"
     ]
    }
   ],
   "source": [
    "getcontext().prec=2                # Context global\n",
    "print(f\"Decimal(1)/Decimal(56): {Decimal(1)/Decimal(56)}\")\n",
    "\n",
    "with localcontext() as c:         # Context local\n",
    "    c.prec=2\n",
    "    print(f\"Decimal(1)/Decimal(56): {Decimal(1)/Decimal(56)}\")"
   ]
  },
  {
   "cell_type": "code",
   "execution_count": 69,
   "metadata": {},
   "outputs": [
    {
     "name": "stdout",
     "output_type": "stream",
     "text": [
      "Square: (5, 25, 125)\n",
      "map: [(1, 1, 1), (2, 4, 8), (3, 9, 27), (4, 16, 64)]\n",
      "seq: [-1, -2, -3, -4]\n",
      "AA: [-8, 7, 2.4, 24, 10]\n",
      "reversed(AA): [7, 5, 2, -8, -2, 6, 4, 5, 2, 3]\n"
     ]
    }
   ],
   "source": [
    "squ=lambda x: (x, x**2, x**3)\n",
    "print(f\"Square: {squ(5)}\")\n",
    "\n",
    "A=[1,2,3,4]\n",
    "print(f\"map: {list(map(squ, A))}\")\n",
    "\n",
    "A=[1,2,3,4]\n",
    "B=[1,2,3,4]\n",
    "squ=list(map(lambda x, y, z: x+y-3*z, A, B, A))\n",
    "print(f\"seq: {squ}\")\n",
    "\n",
    "AA=[3,2,5,4,6,-2,-8,2,5,7]\n",
    "funcs=[min,max, np.mean,sum,len]\n",
    "print(f\"AA: {list(map(lambda f: f(AA), funcs))}\")\n",
    "\n",
    "print(f\"reversed(AA): {list(reversed(AA))}\")"
   ]
  },
  {
   "cell_type": "code",
   "execution_count": 74,
   "metadata": {},
   "outputs": [
    {
     "name": "stdout",
     "output_type": "stream",
     "text": [
      "A = [1, -5, 8, 0, 4, -8, 6]\n",
      "sorted(A) = [-8, -5, 0, 1, 4, 6, 8]\n",
      "sorted(A, reverse=True) = [8, 6, 4, 1, 0, -5, -8]\n",
      "sorted(A, key=np.square, reverse=True) = [8, -8, 6, -5, 4, 1, 0]\n",
      "sorted(A, key=lambda x: x**2, reverse=True) = [8, -8, 6, -5, 4, 1, 0]\n",
      "sorted(A, key=lambda x: (x%2, x)) = [-8, 0, 4, 6, 8, -5, 1]\n"
     ]
    }
   ],
   "source": [
    "A=[1,-5,8,0,4,-8,6]\n",
    "print(f\"{A = }\")\n",
    "print(f\"{sorted(A) = }\")\n",
    "print(f\"{sorted(A, reverse=True) = }\")\n",
    "print(f\"{sorted(A, key=np.square, reverse=True) = }\")\n",
    "print(f\"{sorted(A, key=lambda x: x**2, reverse=True) = }\")\n",
    "print(f\"{sorted(A, key=lambda x: (x%2, x)) = }\")  # sorted: First x then x%2"
   ]
  },
  {
   "cell_type": "code",
   "execution_count": 76,
   "metadata": {},
   "outputs": [
    {
     "name": "stdout",
     "output_type": "stream",
     "text": [
      "A = [1, -5, 8, 0, 4, -8, 6]\n",
      "ind = 0    val = 1\n",
      "ind = 1    val = -5\n",
      "ind = 2    val = 8\n",
      "ind = 3    val = 0\n",
      "ind = 4    val = 4\n",
      "ind = 5    val = -8\n",
      "ind = 6    val = 6\n",
      " a,b,c = (1, 11, 'P')\n",
      " a,b,c = (2, 22, 'y')\n",
      " a,b,c = (3, 33, 't')\n",
      " a,b,c = (4, 44, 'h')\n",
      "zip(A, A[1:], A[2:]):\n",
      " [(1, 2, 3), (2, 3, 4), (3, 4, 8), (4, 8, 9), (8, 9, 2), (9, 2, -7)]\n"
     ]
    }
   ],
   "source": [
    "A=[1,-5,8,0,4,-8,6]\n",
    "print(f\"{A = }\")\n",
    "for ind, val in enumerate(A):\n",
    "    print(f\"{ind = }    {val = }\")\n",
    "\n",
    "A = [1, 2, 3, 4, 8, 9, 2, -7]\n",
    "B = [11, 22, 33, 44]\n",
    "C = 'Python'\n",
    "for a, b, c in zip(A,B,C):\n",
    "    print(f\"{a,b,c = }\")\n",
    "\n",
    "print(f\"zip(A, A[1:], A[2:]):\\n {list(zip(A, A[1:], A[2:]))}\")"
   ]
  },
  {
   "cell_type": "code",
   "execution_count": 78,
   "metadata": {},
   "outputs": [
    {
     "name": "stdout",
     "output_type": "stream",
     "text": [
      "range(10) = range(0, 10)\n",
      "list(range(10)) = [0, 1, 2, 3, 4, 5, 6, 7, 8, 9]\n",
      "list(range(1,10,2)) = [1, 3, 5, 7, 9]\n",
      "list(range(20,5,-2)) = [20, 18, 16, 14, 12, 10, 8, 6]\n"
     ]
    }
   ],
   "source": [
    "print(f\"{range(10) = }\")\n",
    "print(f\"{list(range(10)) = }\")\n",
    "print(f\"{list(range(1,10,2)) = }\")\n",
    "print(f\"{list(range(20,5,-2)) = }\")"
   ]
  },
  {
   "cell_type": "code",
   "execution_count": 79,
   "metadata": {},
   "outputs": [
    {
     "name": "stdout",
     "output_type": "stream",
     "text": [
      "A = [1, 1, 5, 8, 5, 2, 3, 2, 3]\n",
      "set(A) = {1, 2, 3, 5, 8}\n"
     ]
    }
   ],
   "source": [
    "A=[1,1,5,8,5,2,3,2,3]\n",
    "print(f\"{A = }\")\n",
    "print(f\"{set(A) = }\")"
   ]
  },
  {
   "cell_type": "code",
   "execution_count": 82,
   "metadata": {},
   "outputs": [
    {
     "name": "stdout",
     "output_type": "stream",
     "text": [
      "A = [1, 5, 1, 6, 6, 2, 3, 1, 1, 4, 1, 5, 2, 5, 4]\n",
      "Counter: Counter({1: 5, 5: 3, 6: 2, 2: 2, 4: 2, 3: 1})\n",
      "B.most_common() = [(1, 5), (5, 3), (6, 2), (2, 2), (4, 2), (3, 1)]\n",
      "B.most_common(3) = [(1, 5), (5, 3), (6, 2)]\n",
      "B.most_common()[-1] = (3, 1)\n",
      "C = [3, 3, 1, 4, 4]\n",
      "Counter_update: Counter({1: 6, 4: 4, 5: 3, 3: 3, 6: 2, 2: 2})\n",
      "B.total() = 20\n"
     ]
    }
   ],
   "source": [
    "A = [randint(1,6) for _ in range(15)]\n",
    "B = Counter(A)\n",
    "print(f\"{A = }\")\n",
    "print(f\"Counter: {B}\")\n",
    "print(f\"{B.most_common() = }\")\n",
    "print(f\"{B.most_common(3) = }\")\n",
    "print(f\"{B.most_common()[-1] = }\")\n",
    "\n",
    "C = [randint(1,5) for _ in range(5)]\n",
    "print(f\"{C = }\")\n",
    "B.update(C)\n",
    "print(f\"Counter_update: {B}\")\n",
    "print(f\"{B.total() = }\")"
   ]
  },
  {
   "cell_type": "code",
   "execution_count": 85,
   "metadata": {},
   "outputs": [
    {
     "name": "stdout",
     "output_type": "stream",
     "text": [
      "dic1 = defaultdict(<class 'int'>, {'red': 10, 'blue': 20, 'green': 0})\n",
      "dic1_new = OrderedDict([('blue', 20), ('green', 0), ('red', 10)])\n",
      "dic1_new.popitem() = ('red', 10) dic1_new_remove:OrderedDict([('blue', 20), ('green', 0)])\n",
      "dic1+dic2: ChainMap({'y': 15, 'm': 87, 'c': 98}, {'yy': 17, 'mm': 7, 'cc': 9})\n",
      "dic4.maps: [{'y': 15, 'm': 87, 'c': 98}, {'yy': 17, 'mm': 7, 'cc': 9}]\n"
     ]
    },
    {
     "ename": "KeyError",
     "evalue": "'black'",
     "output_type": "error",
     "traceback": [
      "\u001b[1;31m---------------------------------------------------------------------------\u001b[0m",
      "\u001b[1;31mKeyError\u001b[0m                                  Traceback (most recent call last)",
      "Cell \u001b[1;32mIn[85], line 21\u001b[0m\n\u001b[0;32m     18\u001b[0m \u001b[39mprint\u001b[39m(\u001b[39mf\u001b[39m\u001b[39m\"\u001b[39m\u001b[39mdic1+dic2: \u001b[39m\u001b[39m{\u001b[39;00mdic4\u001b[39m}\u001b[39;00m\u001b[39m\"\u001b[39m)\n\u001b[0;32m     19\u001b[0m \u001b[39mprint\u001b[39m(\u001b[39mf\u001b[39m\u001b[39m\"\u001b[39m\u001b[39mdic4.maps: \u001b[39m\u001b[39m{\u001b[39;00mdic4\u001b[39m.\u001b[39mmaps\u001b[39m}\u001b[39;00m\u001b[39m\"\u001b[39m)\n\u001b[1;32m---> 21\u001b[0m dic[\u001b[39m'\u001b[39;49m\u001b[39mblack\u001b[39;49m\u001b[39m'\u001b[39;49m]      \u001b[39m# returen error\u001b[39;00m\n",
      "\u001b[1;31mKeyError\u001b[0m: 'black'"
     ]
    }
   ],
   "source": [
    "dic = {'red': 10, 'blue': 20, 'green':0} \n",
    "dic = dict(red=10, blue= 20, green=0) \n",
    "dic['red']\n",
    "# dic['black']      # returen error\n",
    "\n",
    "dic1 = defaultdict(int, dic)\n",
    "print(f\"{dic1 = }\")\n",
    "dic1['black']     # returen 0\n",
    "\n",
    "dic1_new = OrderedDict(red= 10, blue=20, green=0)\n",
    "dic1_new.move_to_end('red')\n",
    "print(f\"{dic1_new = }\")\n",
    "print(f\"{dic1_new.popitem() = } dic1_new_remove:{dic1_new}\")\n",
    "\n",
    "dic2 = dict(y=15, m=87, c=98)\n",
    "dic3 = dict(yy=17, mm=7, cc=9)\n",
    "dic4 = ChainMap(dic2,dic3)\n",
    "print(f\"dic1+dic2: {dic4}\")\n",
    "print(f\"dic4.maps: {dic4.maps}\")\n",
    "\n",
    "dic['black']      # returen error"
   ]
  },
  {
   "cell_type": "code",
   "execution_count": null,
   "metadata": {},
   "outputs": [
    {
     "name": "stdout",
     "output_type": "stream",
     "text": [
      "A: deque([1, 2, 3, 4, 5, 6, 3])\n",
      "A.append(10):  deque([1, 2, 3, 4, 5, 6, 3, 10])\n",
      "A.appendleft(10):  deque([10, 1, 2, 3, 4, 5, 6, 3, 10])\n",
      "A.pop():  deque([10, 1, 2, 3, 4, 5, 6, 3])\n",
      "A.popleft():  deque([1, 2, 3, 4, 5, 6, 3])\n",
      "A.extend([5,6,7]):  deque([1, 2, 3, 4, 5, 6, 3, 5, 6, 7])\n",
      "A.extendleft([1,4,8]):  deque([8, 4, 1, 1, 2, 3, 4, 5, 6, 3, 5, 6, 7])\n",
      "A.reverse():  deque([7, 6, 5, 3, 6, 5, 4, 3, 2, 1, 1, 4, 8])\n",
      "A.rotate(3):  deque([1, 4, 8, 7, 6, 5, 3, 6, 5, 4, 3, 2, 1])\n",
      "A.index(3,4):  6\n",
      "A.count(3):  2\n",
      "A.insert(5,2):  deque([1, 4, 8, 7, 6, 2, 5, 3, 6, 5, 4, 3, 2, 1])\n",
      "A.remove(2): deque([1, 4, 8, 7, 6, 5, 3, 6, 5, 4, 3, 2, 1])\n"
     ]
    }
   ],
   "source": [
    "A = deque([1,2,3,4,5,6,3])\n",
    "print(f\"A: {A}\")\n",
    "A.append(10)\n",
    "print(f\"A.append(10):  {A}\")\n",
    "A.appendleft(10)\n",
    "print(f\"A.appendleft(10):  {A}\")\n",
    "A.pop()\n",
    "print(f\"A.pop():  {A}\")\n",
    "A.popleft()\n",
    "print(f\"A.popleft():  {A}\")\n",
    "A.extend([5,6,7])\n",
    "print(f\"A.extend([5,6,7]):  {A}\")\n",
    "A.extendleft([1,4,8])\n",
    "print(f\"A.extendleft([1,4,8]):  {A}\")\n",
    "A.reverse()\n",
    "print(f\"A.reverse():  {A}\")\n",
    "A.rotate(3)\n",
    "print(f\"A.rotate(3):  {A}\")    \n",
    "print(f\"A.index(3,4):  {A.index(3,4,8)}\")  # Find the first number of 3 between index 4 and 8\n",
    "print(f\"A.count(3):  {A.count(3)}\")\n",
    "A.insert(5,2)                              # Enter number 2 in index 5\n",
    "print(f\"A.insert(5,2):  {A}\")\n",
    "A.remove(2)\n",
    "print(f\"A.remove(2): {A}\")"
   ]
  },
  {
   "cell_type": "code",
   "execution_count": null,
   "metadata": {},
   "outputs": [
    {
     "name": "stdout",
     "output_type": "stream",
     "text": [
      "[x**2 for x in range(1,10): [1, 4, 9, 16, 25, 36, 49, 64, 81]\n",
      "[x**2 for x in range(1,10) if x%2]: [1, 9, 25, 49, 81]\n",
      "[x**2 for x in range(1,10) if x%2==0]: [4, 16, 36, 64]\n",
      "[(x-1,x,x+1) for x in range(1,10):\n",
      " [(0, 1, 2), (1, 2, 3), (2, 3, 4), (3, 4, 5), (4, 5, 6), (5, 6, 7), (6, 7, 8), (7, 8, 9), (8, 9, 10)]\n",
      "B: {0, 1, 4, 9, 16, 25}\n",
      "BB: {1: 1, -1: 1, 5: 25, 4: 16, -2: 4, 3: 9, 0: 0}\n",
      "BBB: {1: (1, 1), -1: (1, -1), 5: (25, 125), 4: (16, 64), -2: (4, -8), 3: (9, 27), 0: (0, 0)}\n"
     ]
    }
   ],
   "source": [
    "print(f\"[x**2 for x in range(1,10): {[x**2 for x in range(1,10)]}\")\n",
    "print(f\"[x**2 for x in range(1,10) if x%2]: {[x**2 for x in range(1,10) if x%2]}\")\n",
    "print(f\"[x**2 for x in range(1,10) if x%2==0]: {[x**2 for x in range(1,10) if x%2==0]}\")\n",
    "print(f\"[(x-1,x,x+1) for x in range(1,10):\\n {[(x-1,x,x+1) for x in range(1,10)]}\")\n",
    "\n",
    "A = [1,-1,5,4,1,-2,3,0]\n",
    "B = {x**2 for x in A}\n",
    "print(f\"B: {B}\")\n",
    "BB = {x:x**2 for x in A}\n",
    "print(f\"BB: {BB}\")\n",
    "BBB = {x:(x**2, x**3) for x in A}\n",
    "print(f\"BBB: {BBB}\")"
   ]
  },
  {
   "cell_type": "code",
   "execution_count": null,
   "metadata": {},
   "outputs": [
    {
     "name": "stdout",
     "output_type": "stream",
     "text": [
      "list(zip(A,c,s)): [(4, 'A', '-'), (6, 'B', ':'), (5, 'C', '.-'), (4, 'D', '-'), (4, 'F', ':'), (5, 'R', '.-'), (5, 'E', '-'), (3, 'S', ':'), (2, 'A', '.-'), (1, 'B', '-')]\n",
      "repeat(10,3): [10, 10, 10]\n",
      "B: [[ 1  2  3  4]\n",
      " [ 5  6  7  8]\n",
      " [ 9 10 11 12]\n",
      " [13 14 15 16]\n",
      " [17 18 19 20]]\n",
      "BB: [1, 2, 3, 4, 5, 6, 7, 8, 9, 10, 11, 12, 13, 14, 15, 16, 17, 18, 19, 20]\n"
     ]
    }
   ],
   "source": [
    "c=cycle('ABCDFRES')\n",
    "s=cycle(['-',':','.-'])\n",
    "A=[randint(1,6) for _ in range(10)]\n",
    "print(f\"list(zip(A,c,s)): {list(zip(A,c,s))}\")\n",
    "print(f\"repeat(10,3): {list(repeat(10,3))}\")\n",
    "B=np.arange(1,21).reshape(5,4)\n",
    "print(f\"B: {B}\")\n",
    "BB=list(chain(*B))\n",
    "print(f\"BB: {BB}\")"
   ]
  },
  {
   "cell_type": "code",
   "execution_count": null,
   "metadata": {},
   "outputs": [
    {
     "name": "stdout",
     "output_type": "stream",
     "text": [
      "filter(A>4): [5, 8, 9, 10]\n",
      "filter(A<4): [2, 3, 4, -1, 3, 4, -8]\n",
      "compress(A,B): [2, 8, -1, 9, 3]\n",
      "compress(A,C): [2, 8, -1, 9, 3, 4]\n",
      "dropwile(A<4): [5, 8, 4, -1, 9, 10, 3, 4, -8]\n",
      "takewile(A<4): [2, 3]\n"
     ]
    }
   ],
   "source": [
    "A=[2,3,5,8,4,-1,9,10,3,4,-8]\n",
    "print(f\"filter(A>4): {list(filter(lambda x: x>4, A))}\")\n",
    "print(f\"filter(A<4): {list(filterfalse(lambda x: x>4, A))}\")\n",
    "\n",
    "B=[True,False,False,True, False,True,True,False,True,False,False]\n",
    "C=[1,0,0,1,0,1,1,0,1,1,0,1]\n",
    "print(f\"compress(A,B): {list(compress(A,B))}\")\n",
    "print(f\"compress(A,C): {list(compress(A,C))}\")\n",
    "\n",
    "print(f\"dropwile(A<4): {list(dropwhile(lambda x: x<4, A))}\") # The first number of bigger>4 untill end\n",
    "print(f\"takewile(A<4): {list(takewhile(lambda x: x<4, A))}\") # From first untill the first number of smaller<4\n"
   ]
  },
  {
   "cell_type": "code",
   "execution_count": null,
   "metadata": {},
   "outputs": [
    {
     "name": "stdout",
     "output_type": "stream",
     "text": [
      "strmap(pow,A): [32, 1, 125, 16, 9]\n",
      "pow 1: [32, 1, 125, 16, 9]\n",
      "pow 2: [32, 1, 125, 16, 9]\n",
      "pow 3: [32, 1, 125, 16, 9]\n"
     ]
    }
   ],
   "source": [
    "A=[(2,5),(1,4),(5,3),(4,2),(3,2)]\n",
    "print(f\"strmap(pow,A): {list(starmap(pow,A))}\")\n",
    "print(f\"pow 1: {[pow(x,y) for x,y in A]}\")\n",
    "print(f\"pow 2: {[pow(x[0],x[1]) for x in A]}\")\n",
    "print(f\"pow 3: {[pow(*x) for x in A]}\")"
   ]
  },
  {
   "cell_type": "code",
   "execution_count": null,
   "metadata": {},
   "outputs": [
    {
     "name": "stdout",
     "output_type": "stream",
     "text": [
      " x: [0, 1, 4, 9, 16, 25, 36, 49, 64, 81]\n",
      " x: <generator object <genexpr> at 0x00000194B17C1230>\n",
      " x: [0, 1, 4, 9, 16, 25, 36, 49, 64, 81]\n",
      " x: [1, 1, 1, 1, 1, 1, 1, 1, 1, 1]\n",
      " x, y: [(1, 1), (2, 9), (3, 7), (4, 4), (5, 6)]\n",
      "         9 function calls in 0.000 seconds\n",
      "\n",
      "   Ordered by: standard name\n",
      "\n",
      "   ncalls  tottime  percall  cumtime  percall filename:lineno(function)\n",
      "        6    0.000    0.000    0.000    0.000 <string>:1(<genexpr>)\n",
      "        1    0.000    0.000    0.000    0.000 <string>:1(<module>)\n",
      "        1    0.000    0.000    0.000    0.000 {built-in method builtins.exec}\n",
      "        1    0.000    0.000    0.000    0.000 {method 'disable' of '_lsprof.Profiler' objects}\n",
      "\n",
      "\n"
     ]
    }
   ],
   "source": [
    "print(f\" x: {[x**2 for x in range(10)]}\")\n",
    "print(f\" x: {(x**2 for x in range(10))}\")             # generator\n",
    "print(f\" x: {list(x**2 for x in range(10))}\") \n",
    "print(f\" x: {list(1 for _ in range(10))}\")            # generator\n",
    "A=[1,2,3,4,5]\n",
    "B=[1,9,7,4,6]\n",
    "print(f\" x, y: {list((x,y) for x,y in zip(A, B))}\")   # generator\n",
    "cProfile.run('list((x,y) for x,y in zip(A, B))')"
   ]
  },
  {
   "cell_type": "code",
   "execution_count": 11,
   "metadata": {},
   "outputs": [
    {
     "name": "stdout",
     "output_type": "stream",
     "text": [
      "any(A): any(B): any(C):\n",
      " True   False   True\n",
      "all(A): all(B): all(C):\n",
      " False   False   True\n",
      "any(A(x==10)): False\n",
      "any(A(x>5)): True\n",
      "all(A(x>5)): False\n"
     ]
    }
   ],
   "source": [
    "A=[1,0,1,-1,0,5,8,7,0]\n",
    "B=[0,0,0,0]\n",
    "C=[-1,-1,-2]\n",
    "print(f\"any(A): any(B): any(C):\\n {any(A)}   {any(B)}   {any(C)}\")  # If a number be ~0-->any:True\n",
    "print(f\"all(A): all(B): all(C):\\n {all(A)}   {all(B)}   {all(C)}\")  # If all numbers be ~0-->all:True\n",
    "\n",
    "AA=any([x==10 for x in A])\n",
    "print(f\"any(A(x==10)): {AA}\")\n",
    "\n",
    "AAA=any([x>5 for x in A])\n",
    "print(f\"any(A(x>5)): {AAA}\")\n",
    "\n",
    "AAAA=all([x>5 for x in A])\n",
    "print(f\"all(A(x>5)): {AAAA}\")"
   ]
  }
 ],
 "metadata": {
  "kernelspec": {
   "display_name": "Python 3",
   "language": "python",
   "name": "python3"
  },
  "language_info": {
   "codemirror_mode": {
    "name": "ipython",
    "version": 3
   },
   "file_extension": ".py",
   "mimetype": "text/x-python",
   "name": "python",
   "nbconvert_exporter": "python",
   "pygments_lexer": "ipython3",
   "version": "3.10.11"
  }
 },
 "nbformat": 4,
 "nbformat_minor": 0
}
